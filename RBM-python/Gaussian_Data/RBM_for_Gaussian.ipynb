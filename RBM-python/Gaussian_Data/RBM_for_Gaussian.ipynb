{
 "cells": [
  {
   "cell_type": "markdown",
   "metadata": {
    "colab_type": "text",
    "id": "6p6KYDXpYaVv"
   },
   "source": [
    "**Setup your google drive to use it for python**"
   ]
  },
  {
   "cell_type": "markdown",
   "metadata": {
    "colab_type": "text",
    "id": "BdqOXKV7DBvM"
   },
   "source": [
    "\n",
    "\n",
    "Run the following lines with Shift+Enter and then go to the URL and type your google credentials."
   ]
  },
  {
   "cell_type": "code",
   "execution_count": 1,
   "metadata": {
    "colab": {},
    "colab_type": "code",
    "id": "nwTXVbwGwIxw"
   },
   "outputs": [],
   "source": [
    "import numpy as np\n",
    "import matplotlib.pyplot as plt\n",
    "import torch\n",
    "import torch.utils.data\n",
    "import torch.nn as nn\n",
    "import torch.nn.functional as F\n",
    "import torch.optim as optim\n",
    "from torch.autograd import Variable\n",
    "import os\n",
    "import pickle"
   ]
  },
  {
   "cell_type": "markdown",
   "metadata": {
    "colab_type": "text",
    "id": "7UpCAw3jrSDq"
   },
   "source": [
    "Upload RBM_helper here"
   ]
  },
  {
   "cell_type": "code",
   "execution_count": 21,
   "metadata": {
    "colab": {},
    "colab_type": "code",
    "id": "-I20o8TOpM7J"
   },
   "outputs": [],
   "source": [
    "import torch.utils.data\n",
    "import torch.nn as nn\n",
    "import torch.nn.functional as F\n",
    "import torch.optim as optim\n",
    "from torch.autograd import Variable\n",
    "\n",
    "\n",
    "def outer_product(vecs1, vecs2):\n",
    "    # A way to calculate outer vector products in torch\n",
    "    return torch.bmm(vecs1.unsqueeze(2), vecs2.unsqueeze(1)) \n",
    "\n",
    "class RBM(nn.Module):\n",
    "    def __init__(self,\n",
    "                 n_vis=10,\n",
    "                 n_hin=50,\n",
    "                 k=5, gpu = False, saved_weights = None):\n",
    "        super(RBM, self).__init__()\n",
    "        self.gpu = gpu\n",
    "        if saved_weights is None:\n",
    "            self.W = nn.Parameter(torch.randn(n_hin,n_vis)*1e-2, requires_grad = True) # randomly initialize weights\n",
    "            self.v_bias = nn.Parameter(torch.randn(n_vis)*1e-2, requires_grad=True)\n",
    "            self.h_bias = nn.Parameter(torch.randn(n_hin)*1e-2, requires_grad=True)\n",
    "        else:\n",
    "            self.W = saved_weights[0]\n",
    "            self.v_bias = saved_weights[1]\n",
    "            self.h_bias = saved_weights[2]\n",
    "        self.k = k\n",
    "        self.n_vis = n_vis\n",
    "        \n",
    "        self.W_update = self.W.clone()\n",
    "        self.h_bias_update = self.h_bias.clone()\n",
    "        self.v_bias_update = self.v_bias.clone()\n",
    "        \n",
    "        if self.gpu:\n",
    "            self.W_update = self.W_update.cuda()\n",
    "            self.v_bias_update = self.v_bias_update.cuda()\n",
    "            self.h_bias_update = self.h_bias_update.cuda()\n",
    "\n",
    "    #--------------------------------------------------------------------------\n",
    "    # What does this code do? \n",
    "    def v_to_h(self,v): # sample h, given v\n",
    "        \"\"\"This chunk of code samples the hidden layer given the visible layer.\n",
    "        It estimates the probabilities that a hidden node h has a certain value\n",
    "        given that a visual node v has been determined. The estimation is done by means\n",
    "        of a sigmoid. It returns the eestimated probabilities and the estimated values\n",
    "        for the hidden layer.\"\"\"\n",
    "        # Checking wther cuda cores are accessible\n",
    "        if (self.gpu and not v.is_cuda):\n",
    "            v = v.cuda()\n",
    "        # Sampling the probability of hidden from the visible\n",
    "        p_h = F.sigmoid(F.linear(v,self.W,self.h_bias))\n",
    "        # p (h_j | v ) = sigma(b_j + sum_i v_i w_ij)\n",
    "        # Sampling h using a Bernoulli distribution with p(h|v) just obtained\n",
    "        sample_h = p_h.bernoulli()\n",
    "        return p_h, sample_h\n",
    "\n",
    "    #--------------------------------------------------------------------------\n",
    "    # What does this code do?     \n",
    "    def h_to_v(self,h): # sample v given h\n",
    "        \"\"\"This chunk samples the visible layer given the values of the hidden layer.\n",
    "        The function returns the sampled visible layer and the probability in which \n",
    "        this state has occured.\"\"\"\n",
    "        # Checking wther cuda cores are accessible\n",
    "        if (self.gpu and not h.is_cuda):\n",
    "            h = h.cuda()\n",
    "        # Sampling the probabilities of visible given hidden\n",
    "        p_v = F.sigmoid(F.linear(h,self.W.t(),self.v_bias))\n",
    "        # p (v_i | h ) = sigma(a_i + sum_j h_j w_ij)\n",
    "        # Sampling the values of visible for this iteration using\n",
    "        # the Bernouilli distribution with p(v|h)\n",
    "        sample_v = p_v.bernoulli()\n",
    "        return p_v, sample_v\n",
    "    \n",
    "    def forward(self,v): \n",
    "        if (self.gpu and not v.is_cuda):\n",
    "            v = v.cuda()\n",
    "        p_h, h1 = self.v_to_h(v)\n",
    "        h_ = h1\n",
    "        for _ in range(self.k):\n",
    "            _, v_ = self.h_to_v(h_)\n",
    "            _, h_ = self.v_to_h(v_)\n",
    "        return v,v_\n",
    "        \n",
    "    def free_energy(self,v): \n",
    "        if (self.gpu and not v.is_cuda):\n",
    "            v = v.cuda()\n",
    "        if len(v.shape)<2: #if v is just ONE vector\n",
    "            v = v.view(1, v.shape[0])\n",
    "        vbias_term = v.mv(self.v_bias) \n",
    "        wx_b = F.linear(v,self.W,self.h_bias) \n",
    "        hidden_term = wx_b.exp().add(1).log().sum(1) \n",
    "        return (-hidden_term - vbias_term) \n",
    "\n",
    "    #--------------------------------------------------------------------------\n",
    "    # What does this code do?     \n",
    "    def draw_sample(self, sample_length, number_of_samples = 10, initial_im=[]):\n",
    "        \"\"\"Random sample drawing. Asks the RBM for a state and it generates one,\n",
    "        following the trained probabilities for each state. We can select\n",
    "        to provide a visible layer of our choosing.\"\"\"\n",
    "        if len(initial_im) == 0:\n",
    "            # Starting with a random vector in the visible layer\n",
    "            v_ = F.relu(torch.sign(torch.randn([number_of_samples, self.n_vis])))\n",
    "            for _ in range(sample_length):\n",
    "                # Doing a step in Gibbs sampling\n",
    "                _, h_ = self.v_to_h(v_)\n",
    "                _, v_ = self.h_to_v(h_)\n",
    "        else:\n",
    "            # Using an example state as the first step\n",
    "            v_ = initial_im\n",
    "            for _ in range(sample_length):\n",
    "                # Gibbs sampling\n",
    "                _, h_ = self.v_to_h(v_)\n",
    "                _, v_ = self.h_to_v(h_)\n",
    "        return v_\n",
    "    \n",
    "    # -------------------------------------------------------------------------\n",
    "    def partition_fct(self, spins):\n",
    "        return (-self.free_energy(spins)).exp().sum()\n",
    "\n",
    "    def probability_of_v(self, all_spins, v):\n",
    "        epsilon = (-self.free_energy(v)).exp().sum()\n",
    "        Z = self.partition_fct(all_spins)\n",
    "        return epsilonW/Z\n",
    "\n",
    "    #--------------------------------------------------------------------------\n",
    "    # What does this code do?    \n",
    "    def train(self, train_loader, lr= 0.01, weight_decay=0, momentum=0.9, epoch=0):\n",
    "        \"\"\"Training function for the RBM. First, the training data is loaded. We then\n",
    "        get the positive and negative phases of the current training step:\n",
    "            -The positive phase increases the probability of training by reducing\n",
    "            the free energy.\n",
    "            -The negative phase reduces the probability of the samples generated by\n",
    "            the model, so that only those approaching the empirical p(v, h) are\n",
    "            significant.\n",
    "        Between this, we make the next step on the Gibbs sampling, obtaining\n",
    "        the next values of the hidden parameters. After this, we accelerate\n",
    "        the training by modifying the biases and connections between the two\n",
    "        layers by a certain predefined quantity. Finally, we calculate the\n",
    "        next increment on the biases and connections and sum them to those\n",
    "        of the previous step.\"\"\"\n",
    "        loss_ = []\n",
    "        for _, data in enumerate(train_loader):\n",
    "            self.data = Variable(data.view(-1,self.n_vis))\n",
    "            if self.gpu:\n",
    "                self.data = self.data.cuda()\n",
    "            \n",
    "            # Get positive phase from the data\n",
    "            self.vpos = self.data\n",
    "            self.hpos_probability, self.hpos = self.v_to_h(self.vpos)\n",
    "            # Get negative phase from the chains\n",
    "            _, self.vneg = self.forward(self.vpos) # make actual k-step sampling\n",
    "            self.hneg_probability, self.hneg = self.v_to_h(self.vneg)\n",
    "        \n",
    "            self.W_update.data      *= momentum\n",
    "            self.h_bias_update.data *= momentum\n",
    "            self.v_bias_update.data *= momentum\n",
    "            \n",
    "            # Icrements for this iteration on connections and biases\n",
    "            self.deltaW = (outer_product(self.hpos_probability, self.vpos)- outer_product(self.hneg_probability, self.vneg)).data.mean(0)\n",
    "            self.deltah = (self.hpos_probability - self.hneg_probability).data.mean(0)\n",
    "            self.deltav = (self.vpos - self.vneg).data.mean(0)\n",
    "            # mean averages over all batches\n",
    "            # Checking if cuda cores are available\n",
    "            if self.gpu:\n",
    "                # Updating the values of the connections and biases\n",
    "                self.W_update.data      += (lr * self.deltaW).cuda()\n",
    "                self.h_bias_update.data += (lr * self.deltah).cuda()\n",
    "                self.v_bias_update.data += (lr * self.deltav).cuda()\n",
    "            else:\n",
    "                # Updating the values of the connections and biases\n",
    "                self.W_update.data      += (lr * self.deltaW)\n",
    "                self.h_bias_update.data += (lr * self.deltah)\n",
    "                self.v_bias_update.data += (lr * self.deltav)\n",
    "\n",
    "                    \n",
    "            self.W.data      += self.W_update.data\n",
    "            self.h_bias.data += self.h_bias_update.data\n",
    "            self.v_bias.data += self.v_bias_update.data\n",
    "            # Mean square error for this iteration\n",
    "            loss_.append(F.mse_loss(self.vneg, self.vpos).data[0])\n"
   ]
  },
  {
   "cell_type": "code",
   "execution_count": 22,
   "metadata": {
    "colab": {},
    "colab_type": "code",
    "id": "IwJOfjTyqkZ7"
   },
   "outputs": [],
   "source": [
    "path = 'weights/'"
   ]
  },
  {
   "cell_type": "markdown",
   "metadata": {
    "colab_type": "text",
    "id": "iOp--cP5pwfF"
   },
   "source": [
    "**This is the whole RBM training routine**"
   ]
  },
  {
   "cell_type": "code",
   "execution_count": 30,
   "metadata": {
    "colab": {},
    "colab_type": "code",
    "id": "UHzZcEEu3hJ1"
   },
   "outputs": [],
   "source": [
    "batch_size = 32\n",
    "#epochs = 500 # More epochs test\n",
    "epochs = 41\n",
    "gpu = False\n",
    "\n",
    "## Loading the images from the file\n",
    "data = np.load('gauss.npy')   \n",
    "dims = data.shape\n",
    "data = torch.FloatTensor(data)\n",
    "\n",
    "## Starting the Machinery\n",
    "vis = dims[1]   # Number of visible layers\n",
    "hid = 2*vis\n",
    "k = 1"
   ]
  },
  {
   "cell_type": "code",
   "execution_count": 31,
   "metadata": {
    "colab": {
     "base_uri": "https://localhost:8080/",
     "height": 139
    },
    "colab_type": "code",
    "executionInfo": {
     "elapsed": 14225,
     "status": "ok",
     "timestamp": 1547136678749,
     "user": {
      "displayName": "Patrick Hümbeli",
      "photoUrl": "",
      "userId": "17189072002711427521"
     },
     "user_tz": -60
    },
    "id": "3aLbZxLypuxI",
    "outputId": "b2ef4d3a-cca7-4afa-8e19-be469251a502"
   },
   "outputs": [
    {
     "name": "stdout",
     "output_type": "stream",
     "text": [
      "0\n"
     ]
    },
    {
     "name": "stderr",
     "output_type": "stream",
     "text": [
      "/Users/phuembeli/anaconda3/lib/python3.6/site-packages/torch/nn/functional.py:1006: UserWarning: nn.functional.sigmoid is deprecated. Use torch.sigmoid instead.\n",
      "  warnings.warn(\"nn.functional.sigmoid is deprecated. Use torch.sigmoid instead.\")\n",
      "/Users/phuembeli/anaconda3/lib/python3.6/site-packages/ipykernel_launcher.py:180: UserWarning: invalid index of a 0-dim tensor. This will be an error in PyTorch 0.5. Use tensor.item() to convert a 0-dim tensor to a Python number\n"
     ]
    },
    {
     "name": "stdout",
     "output_type": "stream",
     "text": [
      "1\n",
      "2\n",
      "3\n",
      "4\n",
      "5\n",
      "6\n",
      "7\n",
      "8\n",
      "9\n",
      "10\n",
      "11\n",
      "12\n",
      "13\n",
      "14\n",
      "15\n",
      "16\n",
      "17\n",
      "18\n",
      "19\n",
      "20\n",
      "21\n",
      "22\n",
      "23\n",
      "24\n",
      "25\n",
      "26\n",
      "27\n",
      "28\n",
      "29\n",
      "30\n",
      "31\n",
      "32\n",
      "33\n",
      "34\n",
      "35\n",
      "36\n",
      "37\n",
      "38\n",
      "39\n",
      "40\n"
     ]
    }
   ],
   "source": [
    "# Trying to set up GPU acceleration\n",
    "if gpu:\n",
    "    rbm = rbm.cuda()\n",
    " \n",
    "train_loader = torch.utils.data.DataLoader(data, batch_size=batch_size,\n",
    "        shuffle=True)\n",
    "rbm = RBM(n_vis=vis, n_hin=hid, k=k, gpu=gpu) #Creation of the RBM\n",
    "for epoch in range(epochs):\n",
    "    # loading data into the RBM\n",
    "    train_loader = torch.utils.data.DataLoader(data, batch_size=batch_size,\n",
    "            shuffle=True)\n",
    "    # Faster as the epochs increase\n",
    "    momentum = 1-.1*(epochs-epoch)/epochs\n",
    "    # Learnig rate. Faster initially, slower at the end\n",
    "    lr = .1*np.exp(-epoch/epochs)+1e-4\n",
    "    # Training the RBm with this parameters\n",
    "    if (epoch % 1 == 0) or (epoch == 0):\n",
    "        print(epoch)\n",
    "        saved_weights = []\n",
    "        saved_weights.append(rbm.W)\n",
    "        saved_weights.append(rbm.v_bias)\n",
    "        saved_weights.append(rbm.h_bias)\n",
    "        np.save(path + 'weights_{}_epoch_zero_only'.format(epoch), saved_weights)\n",
    "    rbm.train(train_loader, lr=lr)"
   ]
  },
  {
   "cell_type": "code",
   "execution_count": 32,
   "metadata": {
    "colab": {
     "base_uri": "https://localhost:8080/",
     "height": 34
    },
    "colab_type": "code",
    "executionInfo": {
     "elapsed": 624,
     "status": "ok",
     "timestamp": 1547138306925,
     "user": {
      "displayName": "Patrick Hümbeli",
      "photoUrl": "",
      "userId": "17189072002711427521"
     },
     "user_tz": -60
    },
    "id": "vGT4x_41_vkI",
    "outputId": "a4f24f9f-d820-48d2-bc45-e2e8d459f6b2"
   },
   "outputs": [
    {
     "name": "stdout",
     "output_type": "stream",
     "text": [
      "torch.Size([10, 101])\n"
     ]
    },
    {
     "name": "stderr",
     "output_type": "stream",
     "text": [
      "/Users/phuembeli/anaconda3/lib/python3.6/site-packages/torch/nn/functional.py:1006: UserWarning: nn.functional.sigmoid is deprecated. Use torch.sigmoid instead.\n",
      "  warnings.warn(\"nn.functional.sigmoid is deprecated. Use torch.sigmoid instead.\")\n"
     ]
    }
   ],
   "source": [
    "epoch = 40\n",
    "saved_weights = np.load(path + 'weights_{}_epoch_zero_only.npy'.format(epoch))\n",
    "rbm = RBM(n_vis=vis, n_hin=hid, k=k, gpu=gpu, saved_weights = saved_weights)\n",
    "img = rbm.draw_sample(100)\n",
    "print(img.shape)"
   ]
  },
  {
   "cell_type": "code",
   "execution_count": 33,
   "metadata": {
    "colab": {
     "base_uri": "https://localhost:8080/",
     "height": 347
    },
    "colab_type": "code",
    "executionInfo": {
     "elapsed": 823,
     "status": "ok",
     "timestamp": 1547138309426,
     "user": {
      "displayName": "Patrick Hümbeli",
      "photoUrl": "",
      "userId": "17189072002711427521"
     },
     "user_tz": -60
    },
    "id": "S3wQLH_nicLZ",
    "outputId": "2184231c-9197-471f-c215-a60d8d1ac3a3"
   },
   "outputs": [
    {
     "name": "stderr",
     "output_type": "stream",
     "text": [
      "/Users/phuembeli/anaconda3/lib/python3.6/site-packages/torch/nn/functional.py:1006: UserWarning: nn.functional.sigmoid is deprecated. Use torch.sigmoid instead.\n",
      "  warnings.warn(\"nn.functional.sigmoid is deprecated. Use torch.sigmoid instead.\")\n"
     ]
    },
    {
     "data": {
      "image/png": "[encoded data removed]",
      "text/plain": [
       "<Figure size 432x288 with 1 Axes>"
      ]
     },
     "metadata": {},
     "output_type": "display_data"
    }
   ],
   "source": [
    "number_of_samples = 10000\n",
    "rbm = RBM(n_vis=vis, n_hin=hid, k=k, gpu=gpu, saved_weights = saved_weights)\n",
    "\n",
    "sample = rbm.draw_sample(100, number_of_samples = number_of_samples, initial_im = [])\n",
    "gauss = sample.mean(0)\n",
    "gauss = gauss.cpu()\n",
    "gauss = gauss.detach().numpy()\n",
    "\n",
    "plt.plot(gauss)\n",
    "plt.show()"
   ]
  },
  {
   "cell_type": "code",
   "execution_count": 60,
   "metadata": {
    "colab": {
     "base_uri": "https://localhost:8080/",
     "height": 272
    },
    "colab_type": "code",
    "executionInfo": {
     "elapsed": 532,
     "status": "ok",
     "timestamp": 1547138119442,
     "user": {
      "displayName": "Patrick Hümbeli",
      "photoUrl": "",
      "userId": "17189072002711427521"
     },
     "user_tz": -60
    },
    "id": "z71llnQunYYk",
    "outputId": "4a310490-de40-4cdc-d0aa-2cb4ec7500bf"
   },
   "outputs": [
    {
     "data": {
      "text/plain": [
       "tensor([ 0.0003,  0.0003,  0.0005,  0.0005,  0.0009,  0.0006,  0.0004,\n",
       "         0.0014,  0.0010,  0.0018,  0.0010,  0.0018,  0.0042,  0.0054,\n",
       "         0.0064,  0.0045,  0.0092,  0.0106,  0.0153,  0.0179,  0.0239,\n",
       "         0.0274,  0.0273,  0.0287,  0.0387,  0.0510,  0.0662,  0.0750,\n",
       "         0.0954,  0.1049,  0.1005,  0.1092,  0.1601,  0.1819,  0.1533,\n",
       "         0.2077,  0.2316,  0.2340,  0.2523,  0.2428,  0.2668,  0.3142,\n",
       "         0.3517,  0.3427,  0.3688,  0.3673,  0.3825,  0.3996,  0.3968,\n",
       "         0.4145,  0.4234,  0.3739,  0.3745,  0.4285,  0.3642,  0.3618,\n",
       "         0.3512,  0.3644,  0.2985,  0.3486,  0.3323,  0.2694,  0.2229,\n",
       "         0.2183,  0.2010,  0.2145,  0.1351,  0.1676,  0.1270,  0.1359,\n",
       "         0.1100,  0.1091,  0.0853,  0.0775,  0.0732,  0.0481,  0.0472,\n",
       "         0.0423,  0.0407,  0.0270,  0.0239,  0.0197,  0.0160,  0.0112,\n",
       "         0.0102,  0.0084,  0.0070,  0.0057,  0.0041,  0.0027,  0.0022,\n",
       "         0.0024,  0.0022,  0.0008,  0.0011,  0.0010,  0.0008,  0.0007,\n",
       "         0.0006,  0.0003,  0.0008], device='cuda:0')"
      ]
     },
     "execution_count": 60,
     "metadata": {
      "tags": []
     },
     "output_type": "execute_result"
    }
   ],
   "source": []
  },
  {
   "cell_type": "code",
   "execution_count": null,
   "metadata": {
    "colab": {},
    "colab_type": "code",
    "id": "NGf0Sv9t3oVB"
   },
   "outputs": [],
   "source": []
  }
 ],
 "metadata": {
  "accelerator": "GPU",
  "colab": {
   "collapsed_sections": [],
   "name": "RBM_for_Gaussian.ipynb",
   "provenance": [],
   "version": "0.3.2"
  },
  "kernelspec": {
   "display_name": "Python 3",
   "language": "python",
   "name": "python3"
  },
  "language_info": {
   "codemirror_mode": {
    "name": "ipython",
    "version": 3
   },
   "file_extension": ".py",
   "mimetype": "text/x-python",
   "name": "python",
   "nbconvert_exporter": "python",
   "pygments_lexer": "ipython3",
   "version": "3.6.7"
  }
 },
 "nbformat": 4,
 "nbformat_minor": 2
}
